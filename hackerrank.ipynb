{
 "cells": [
  {
   "cell_type": "code",
   "execution_count": 4,
   "metadata": {},
   "outputs": [],
   "source": [
    "mealCost = float\n",
    "tipPercent = int \n",
    "taxPercent = int "
   ]
  },
  {
   "cell_type": "code",
   "execution_count": 24,
   "metadata": {},
   "outputs": [],
   "source": [
    "def solve(mealCost, tipPercent, taxPercent): \n",
    "    totalCost = round( mealCost + \\\n",
    "                      (mealCost*(tipPercent/100)) + \\\n",
    "                      (mealCost*(taxPercent/100)) \\\n",
    "                     )\n",
    "    return totalCost "
   ]
  },
  {
   "cell_type": "code",
   "execution_count": 25,
   "metadata": {},
   "outputs": [
    {
     "data": {
      "text/plain": [
       "15"
      ]
     },
     "execution_count": 25,
     "metadata": {},
     "output_type": "execute_result"
    }
   ],
   "source": [
    "solve(12, 20, 8)"
   ]
  },
  {
   "cell_type": "code",
   "execution_count": 26,
   "metadata": {},
   "outputs": [],
   "source": [
    "\n",
    "if n % 2 != 0: \n",
    "    print('Weird')\n",
    "elif n % 2 == 0 and n <= 5 and n >= 2: \n",
    "    print('Not Weird')\n",
    "elif n % 2 == 0 and n >= 6 and n <= 20: \n",
    "    print('Weird')\n",
    "elif n % 2 == 0 and n > 20: \n",
    "    print('Not Weird')\n",
    "    "
   ]
  },
  {
   "cell_type": "code",
   "execution_count": 29,
   "metadata": {},
   "outputs": [
    {
     "name": "stdout",
     "output_type": "stream",
     "text": [
      "Not Weird greater than 20\n"
     ]
    }
   ],
   "source": [
    "n = 22\n",
    "\n",
    "n_tester(n)"
   ]
  },
  {
   "cell_type": "code",
   "execution_count": 64,
   "metadata": {},
   "outputs": [],
   "source": [
    "# class vs. instance \n",
    " \n",
    "class Person: \n",
    "    def __init__(self, initialAge):\n",
    "        self.age = 0 \n",
    "        if initialAge < 0: \n",
    "            print('Age is not valid, setting age to 0')\n",
    "        else: \n",
    "            self.age = initialAge\n",
    "        \n",
    "    def amiOld(self): \n",
    "        if self.age < 13: \n",
    "            print('You are young')\n",
    "        elif self.age >= 13 and self.age < 18: \n",
    "            print('You are a teenager')\n",
    "        else: \n",
    "            print('You are old')\n",
    "                   \n",
    "    def yearPasses(self):\n",
    "        self.age == self.age+1\n",
    "             "
   ]
  },
  {
   "cell_type": "code",
   "execution_count": null,
   "metadata": {},
   "outputs": [],
   "source": [
    "class Person: \n",
    "    def __init__(self, initialAge):\n",
    "        self.age = 0 \n",
    "        if initialAge < 0: \n",
    "            print('Age is not valid, setting age to 0.')\n",
    "            self.initialAge = self.age \n",
    "        else: \n",
    "            self.age = initialAge \n",
    "\n",
    "    def amIOld(self): \n",
    "        if self.age < 13: \n",
    "            print('You are young.')\n",
    "        elif self.age >= 13 and self.age < 18: \n",
    "            print('You are a teenager.')\n",
    "        else: \n",
    "            print('You are old.')\n",
    "                   \n",
    "    def yearPasses(self):\n",
    "        self.age += 1\n",
    "               \n",
    "\n",
    "t = int(input())\n",
    "for i in range(0, t):\n",
    "    age = int(input())         \n",
    "    p = Person(age)  \n",
    "    p.amIOld()\n",
    "    for j in range(0, 3):\n",
    "        p.yearPasses()       \n",
    "    p.amIOld()\n",
    "    print(\"\")"
   ]
  },
  {
   "cell_type": "code",
   "execution_count": 76,
   "metadata": {},
   "outputs": [
    {
     "name": "stdout",
     "output_type": "stream",
     "text": [
      "n x 1 = 2\n",
      "n x 2 = 4\n",
      "n x 3 = 6\n",
      "n x 4 = 8\n",
      "n x 5 = 10\n",
      "n x 6 = 12\n",
      "n x 7 = 14\n",
      "n x 8 = 16\n",
      "n x 9 = 18\n",
      "n x 10 = 20\n"
     ]
    }
   ],
   "source": [
    "n = int(input())\n",
    "\n",
    "for i in range(1,11): \n",
    "    multiple = n * i \n",
    "    print('{} x {} = {}'.format(n, i, multiple)) \n",
    "\n",
    "        \n",
    "printMultiple(n)"
   ]
  },
  {
   "cell_type": "code",
   "execution_count": 113,
   "metadata": {},
   "outputs": [
    {
     "name": "stdout",
     "output_type": "stream",
     "text": [
      "Test S\n"
     ]
    }
   ],
   "source": [
    "s = 'Test String'\n",
    "\n",
    "#range(100)[5:18:2]\n",
    "print(s[:6:])\n",
    "    "
   ]
  },
  {
   "cell_type": "code",
   "execution_count": 106,
   "metadata": {},
   "outputs": [
    {
     "name": "stdout",
     "output_type": "stream",
     "text": [
      "2\n",
      "Python\n",
      "Pto yhn\n",
      "Today\n",
      "Tdy oa\n"
     ]
    }
   ],
   "source": [
    "for i in range(int(input())):\n",
    "    s = input()\n",
    "    print(s[::2], s[1::2])"
   ]
  },
  {
   "cell_type": "code",
   "execution_count": 32,
   "metadata": {},
   "outputs": [
    {
     "name": "stdout",
     "output_type": "stream",
     "text": [
      "12345\n",
      "12345\n"
     ]
    }
   ],
   "source": [
    "arr = list(map(int, input().rstrip().split()))\n",
    "print(' things'.join(str(x) for x in arr[::-1]))"
   ]
  },
  {
   "cell_type": "code",
   "execution_count": 30,
   "metadata": {},
   "outputs": [
    {
     "name": "stdout",
     "output_type": "stream",
     "text": [
      "1234\n"
     ]
    }
   ],
   "source": [
    "arr = list(map(int, input().rstrip().split()))\n",
    "le_test = ['#'.join([x for x in str(i)]) for i in arr]"
   ]
  },
  {
   "cell_type": "code",
   "execution_count": 31,
   "metadata": {},
   "outputs": [
    {
     "name": "stdout",
     "output_type": "stream",
     "text": [
      "['1#2#3#4']\n"
     ]
    }
   ],
   "source": [
    "print(le_test)"
   ]
  },
  {
   "cell_type": "code",
   "execution_count": 45,
   "metadata": {},
   "outputs": [
    {
     "name": "stdout",
     "output_type": "stream",
     "text": [
      "1 4 6 8 0\n"
     ]
    }
   ],
   "source": [
    "arr = list(map(int, input().rstrip().split()))\n",
    "xd = arr.reverse()\n",
    "le_test = ' '.join([str(i) for i in arr])"
   ]
  },
  {
   "cell_type": "code",
   "execution_count": 52,
   "metadata": {},
   "outputs": [
    {
     "name": "stdout",
     "output_type": "stream",
     "text": [
      "[4354, 6876876, 22432]\n",
      "None\n",
      "4354 6876876 22432\n"
     ]
    }
   ],
   "source": [
    "print(arr)\n",
    "print(xd)\n",
    "print(le_test)"
   ]
  },
  {
   "cell_type": "code",
   "execution_count": 53,
   "metadata": {},
   "outputs": [
    {
     "name": "stdout",
     "output_type": "stream",
     "text": [
      "9890\n"
     ]
    }
   ],
   "source": [
    "arr = list(map(int, input().rstrip().split()))\n",
    "xd =arr.reverse()\n",
    "le_test = ' '.join([str(i) for i in arr])\n",
    "le_output=' '.join([' '.join([jk for jk in i]) for i in le_test.split(' ')])"
   ]
  },
  {
   "cell_type": "code",
   "execution_count": 54,
   "metadata": {},
   "outputs": [
    {
     "name": "stdout",
     "output_type": "stream",
     "text": [
      "9890\n",
      "9 8 9 0\n"
     ]
    }
   ],
   "source": [
    "print(le_test)\n",
    "print(le_output)"
   ]
  },
  {
   "cell_type": "code",
   "execution_count": 55,
   "metadata": {},
   "outputs": [
    {
     "name": "stdout",
     "output_type": "stream",
     "text": [
      "1234\n"
     ]
    }
   ],
   "source": [
    "arr = list(map(int, input().rstrip().split()))\n",
    "\n",
    "to_rev=[xstr for xstr in ('#'.join([str(i) for i in arr]))]\n",
    "xd =to_rev.reverse()\n",
    "le_output=' '.join(to_rev)"
   ]
  },
  {
   "cell_type": "code",
   "execution_count": 60,
   "metadata": {},
   "outputs": [
    {
     "name": "stdout",
     "output_type": "stream",
     "text": [
      "[1234]\n",
      "None\n",
      "4 3 2 1\n"
     ]
    }
   ],
   "source": [
    "print(arr)\n",
    "print(xd)\n",
    "print(le_output)"
   ]
  },
  {
   "cell_type": "code",
   "execution_count": null,
   "metadata": {},
   "outputs": [],
   "source": [
    "arr = list(map(int, input().rstrip().split()))"
   ]
  },
  {
   "cell_type": "code",
   "execution_count": 2,
   "metadata": {},
   "outputs": [
    {
     "name": "stdout",
     "output_type": "stream",
     "text": [
      "sam 99912222\n"
     ]
    }
   ],
   "source": [
    "phoneBook = []\n",
    "\n",
    "s = input() \n",
    "\n",
    "tel['jack'] = 1234 \n",
    "\n",
    "{x: x+'='+i for j in ('sape')}\n",
    "    "
   ]
  },
  {
   "cell_type": "code",
   "execution_count": null,
   "metadata": {},
   "outputs": [
    {
     "name": "stdout",
     "output_type": "stream",
     "text": [
      "1\n",
      "sam 23235\n",
      "{'sam': '23235'}\n",
      "sam\n",
      "sam=23235\n"
     ]
    }
   ],
   "source": [
    "n = int(input()) \n",
    "nn = [input().split() for _ in range(n)]\n",
    "\n",
    "phoneBook = {} \n",
    "phoneBook = dict(nn)\n",
    "\n",
    "print(phoneBook)\n",
    "\n",
    "while True: \n",
    "    try: \n",
    "        name = input() \n",
    "        if name in phoneBook: \n",
    "            print(name + '=' + phoneBook[name])\n",
    "        else:\n",
    "            print('Not found')\n",
    "    except: \n",
    "        break "
   ]
  },
  {
   "cell_type": "code",
   "execution_count": null,
   "metadata": {},
   "outputs": [],
   "source": [
    "# Enter your code here. Read input from STDIN. Print output to STDOUT\n",
    "z = int(input()) \n",
    "\n",
    "b = [x.split(' ') for x in z[1:z[0]+1:]]\n",
    "c = [x for x in z[z[0]+1::]]\n",
    "\n",
    "phoneBook = {} \n",
    "phoneBook = dict(b)\n",
    "\n",
    "for i in c:  \n",
    "    if phoneBook.get(i) == None: \n",
    "        print('Not found')\n",
    "    else:\n",
    "        print(i + '=' + phoneBook[i])"
   ]
  },
  {
   "cell_type": "code",
   "execution_count": 28,
   "metadata": {},
   "outputs": [
    {
     "name": "stdout",
     "output_type": "stream",
     "text": [
      "{'sam': '1293812', 'tom': '123123', 'jerry': '123123'}\n"
     ]
    }
   ],
   "source": [
    "print(phoneBook)"
   ]
  },
  {
   "cell_type": "code",
   "execution_count": null,
   "metadata": {},
   "outputs": [],
   "source": []
  },
  {
   "cell_type": "code",
   "execution_count": null,
   "metadata": {},
   "outputs": [],
   "source": [
    "phoneBook = {} \n",
    "phoneBook[x] = y \n",
    "\n",
    "phoneBook[key] = value "
   ]
  },
  {
   "cell_type": "code",
   "execution_count": null,
   "metadata": {},
   "outputs": [],
   "source": []
  },
  {
   "cell_type": "code",
   "execution_count": 3,
   "metadata": {},
   "outputs": [
    {
     "name": "stdout",
     "output_type": "stream",
     "text": [
      "['s', 'a', 'm', ' ', '9', '9', '9', '1', '2', '2', '2', '2']\n"
     ]
    }
   ],
   "source": [
    "print(phoneBook)"
   ]
  },
  {
   "cell_type": "code",
   "execution_count": null,
   "metadata": {},
   "outputs": [],
   "source": [
    "n = 11 \n",
    "x = '3 7 8 5 12 14 21 13 18 40 70'\n",
    "x = list(map(int, x.split())) \n",
    "\n",
    "from statistics import median\n",
    "\n",
    "x = sorted(x)\n",
    "print(x) \n",
    "\n",
    "n2 = n//2 \n",
    "print(n2)\n",
    "\n",
    "print(x[:n//2])\n",
    "print(x[(n+1)//2:])\n",
    "print(x[6:])\n",
    "\n",
    "print(int(median(x[:n//2])))\n",
    "print(int(median(x)))\n",
    "print(int(median(x[(n+1)//2:])))\n",
    "\n",
    "\n",
    "# print(percs[0])\n",
    "# print(percs[1])\n",
    "# print(percs[2])\n",
    "\n",
    "ns = [3,4,5,6,7,8,9,10,11,12,13,14,15]\n",
    "\n",
    "for i in ns: \n",
    "    print(i)\n",
    "    print('middle value is n value divided by 2 is {}'.format(i//2))\n",
    "    print('middle value is n value +1 divided by 2 is {}'.format((i+1)//2))\n",
    "    "
   ]
  },
  {
   "cell_type": "code",
   "execution_count": 3,
   "metadata": {},
   "outputs": [],
   "source": [
    "import collections as cc\n",
    "\n",
    "zeebus = 'Hello Wrold zoom zoom'\n",
    "\n",
    "y = cc.Counter(zeebus)"
   ]
  },
  {
   "cell_type": "code",
   "execution_count": 4,
   "metadata": {},
   "outputs": [
    {
     "name": "stdout",
     "output_type": "stream",
     "text": [
      "Counter({'o': 6, 'l': 3, ' ': 3, 'z': 2, 'm': 2, 'H': 1, 'e': 1, 'W': 1, 'r': 1, 'd': 1})\n"
     ]
    }
   ],
   "source": [
    "print(y)"
   ]
  },
  {
   "cell_type": "code",
   "execution_count": 157,
   "metadata": {},
   "outputs": [],
   "source": [
    "import numpy as np \n",
    "\n",
    "x = np.array([1,2,3,4,5,6,7,7,6,5,4,4,3])\n",
    "y = np.bincount(x)\n"
   ]
  },
  {
   "cell_type": "code",
   "execution_count": 158,
   "metadata": {},
   "outputs": [
    {
     "name": "stdout",
     "output_type": "stream",
     "text": [
      "[0 1 1 2 3 2 2 2]\n"
     ]
    },
    {
     "data": {
      "text/plain": [
       "{1, 2, 3, 4, 5, 6, 7}"
      ]
     },
     "execution_count": 158,
     "metadata": {},
     "output_type": "execute_result"
    }
   ],
   "source": [
    "print(y)\n",
    "set(x)"
   ]
  },
  {
   "cell_type": "code",
   "execution_count": 159,
   "metadata": {},
   "outputs": [
    {
     "name": "stdout",
     "output_type": "stream",
     "text": [
      "[(1, 0), (2, 1), (3, 1), (4, 2), (5, 3), (6, 2), (7, 2), (7, 2)]\n"
     ]
    }
   ],
   "source": [
    "z = list(zip(x,y))\n",
    "print(z)"
   ]
  },
  {
   "cell_type": "code",
   "execution_count": 167,
   "metadata": {},
   "outputs": [
    {
     "name": "stdout",
     "output_type": "stream",
     "text": [
      "[(1, 2, 3, 4, 5, 6, 7, 7), (0, 1, 1, 2, 3, 2, 2, 2)]\n"
     ]
    }
   ],
   "source": [
    "unzip = zip(*z)\n",
    "print(list(unzip))"
   ]
  },
  {
   "cell_type": "code",
   "execution_count": 152,
   "metadata": {},
   "outputs": [],
   "source": [
    "#z = np.array(z)\n",
    "unnest = [] \n",
    "\n",
    "for x in z: \n",
    "    for i in x: \n",
    "        unnest.append(i)"
   ]
  },
  {
   "cell_type": "code",
   "execution_count": 153,
   "metadata": {},
   "outputs": [
    {
     "data": {
      "text/plain": [
       "[1, 0, 2, 1, 3, 1, 4, 2, 5, 3, 6, 2, 7, 2, 7, 2]"
      ]
     },
     "execution_count": 153,
     "metadata": {},
     "output_type": "execute_result"
    }
   ],
   "source": [
    "unnest"
   ]
  },
  {
   "cell_type": "code",
   "execution_count": 160,
   "metadata": {},
   "outputs": [],
   "source": [
    "zarray = np.array(z).flatten()"
   ]
  },
  {
   "cell_type": "code",
   "execution_count": 161,
   "metadata": {},
   "outputs": [
    {
     "data": {
      "text/plain": [
       "array([1, 0, 2, 1, 3, 1, 4, 2, 5, 3, 6, 2, 7, 2, 7, 2], dtype=int64)"
      ]
     },
     "execution_count": 161,
     "metadata": {},
     "output_type": "execute_result"
    }
   ],
   "source": [
    "zarray"
   ]
  },
  {
   "cell_type": "code",
   "execution_count": 126,
   "metadata": {},
   "outputs": [
    {
     "data": {
      "text/plain": [
       "array([[1, 0, 2, 1],\n",
       "       [3, 1, 4, 2],\n",
       "       [5, 3, 6, 2],\n",
       "       [7, 2, 7, 2]], dtype=int64)"
      ]
     },
     "execution_count": 126,
     "metadata": {},
     "output_type": "execute_result"
    }
   ],
   "source": [
    "np.array(unnest).reshape(4,4)"
   ]
  },
  {
   "cell_type": "code",
   "execution_count": 20,
   "metadata": {},
   "outputs": [
    {
     "name": "stdout",
     "output_type": "stream",
     "text": [
      "6\n",
      "3\n"
     ]
    }
   ],
   "source": [
    "dictionarytest = {'a':1, 'b':2, 'c':3}\n",
    "\n",
    "def someFunction(a, b, c):\n",
    "    print(a+b+c)\n",
    "    print(c)\n",
    "    return "
   ]
  },
  {
   "cell_type": "code",
   "execution_count": 21,
   "metadata": {},
   "outputs": [
    {
     "name": "stdout",
     "output_type": "stream",
     "text": [
      "6\n",
      "3\n"
     ]
    }
   ],
   "source": [
    "someFunction(**dictionarytest)"
   ]
  },
  {
   "cell_type": "code",
   "execution_count": 30,
   "metadata": {},
   "outputs": [],
   "source": [
    "numbers = [4,6,7,7,4,4,8,3,4,5]\n",
    "\n",
    "#evens = [x for x in numbers if x % 2 is 0]\n",
    "\n",
    "evens = [] \n",
    "\n",
    "for x in numbers:\n",
    "    if x % 2 == 0: \n",
    "        evens.append(x)\n",
    "                     \n",
    "odds = [x for x in numbers if x % 2 != 0] \n",
    "        "
   ]
  },
  {
   "cell_type": "code",
   "execution_count": null,
   "metadata": {},
   "outputs": [],
   "source": [
    "APPLY row/column \n",
    "mapapply DF elementwise  \n",
    "\"map\" series elementwise "
   ]
  },
  {
   "cell_type": "code",
   "execution_count": 28,
   "metadata": {},
   "outputs": [
    {
     "data": {
      "text/plain": [
       "[4, 6, 4, 4, 8, 4]"
      ]
     },
     "execution_count": 28,
     "metadata": {},
     "output_type": "execute_result"
    }
   ],
   "source": [
    "evens"
   ]
  },
  {
   "cell_type": "code",
   "execution_count": 31,
   "metadata": {},
   "outputs": [
    {
     "data": {
      "text/plain": [
       "[7, 7, 3, 5]"
      ]
     },
     "execution_count": 31,
     "metadata": {},
     "output_type": "execute_result"
    }
   ],
   "source": [
    "odds"
   ]
  },
  {
   "cell_type": "code",
   "execution_count": 32,
   "metadata": {},
   "outputs": [],
   "source": [
    "thislist = ['asdf', 'asdf23']\n",
    "lengths = [len(x) for x in thislist]"
   ]
  },
  {
   "cell_type": "code",
   "execution_count": 33,
   "metadata": {},
   "outputs": [
    {
     "data": {
      "text/plain": [
       "[4, 6]"
      ]
     },
     "execution_count": 33,
     "metadata": {},
     "output_type": "execute_result"
    }
   ],
   "source": [
    "lengths"
   ]
  },
  {
   "cell_type": "code",
   "execution_count": 72,
   "metadata": {},
   "outputs": [
    {
     "name": "stdout",
     "output_type": "stream",
     "text": [
      "[[1, 2, 3, 4, 5], [1, 2, 3, 4, 5], [1, 2, 3, 4, 5], [1, 2, 3, 4, 5], [1, 2, 3, 4, 5], [1, 2, 3, 4, 5], [1, 2, 3, 4, 5], [1, 2, 3, 4, 5], [1, 2, 3, 4, 5], [1, 2, 3, 4, 5]]\n"
     ]
    },
    {
     "data": {
      "text/html": [
       "<div>\n",
       "<style scoped>\n",
       "    .dataframe tbody tr th:only-of-type {\n",
       "        vertical-align: middle;\n",
       "    }\n",
       "\n",
       "    .dataframe tbody tr th {\n",
       "        vertical-align: top;\n",
       "    }\n",
       "\n",
       "    .dataframe thead th {\n",
       "        text-align: right;\n",
       "    }\n",
       "</style>\n",
       "<table border=\"1\" class=\"dataframe\">\n",
       "  <thead>\n",
       "    <tr style=\"text-align: right;\">\n",
       "      <th></th>\n",
       "      <th>0</th>\n",
       "      <th>1</th>\n",
       "      <th>2</th>\n",
       "      <th>3</th>\n",
       "      <th>4</th>\n",
       "    </tr>\n",
       "  </thead>\n",
       "  <tbody>\n",
       "    <tr>\n",
       "      <th>0</th>\n",
       "      <td>1</td>\n",
       "      <td>2</td>\n",
       "      <td>3</td>\n",
       "      <td>4</td>\n",
       "      <td>5</td>\n",
       "    </tr>\n",
       "    <tr>\n",
       "      <th>1</th>\n",
       "      <td>1</td>\n",
       "      <td>2</td>\n",
       "      <td>3</td>\n",
       "      <td>4</td>\n",
       "      <td>5</td>\n",
       "    </tr>\n",
       "    <tr>\n",
       "      <th>2</th>\n",
       "      <td>1</td>\n",
       "      <td>2</td>\n",
       "      <td>3</td>\n",
       "      <td>4</td>\n",
       "      <td>5</td>\n",
       "    </tr>\n",
       "    <tr>\n",
       "      <th>3</th>\n",
       "      <td>1</td>\n",
       "      <td>2</td>\n",
       "      <td>3</td>\n",
       "      <td>4</td>\n",
       "      <td>5</td>\n",
       "    </tr>\n",
       "    <tr>\n",
       "      <th>4</th>\n",
       "      <td>1</td>\n",
       "      <td>2</td>\n",
       "      <td>3</td>\n",
       "      <td>4</td>\n",
       "      <td>5</td>\n",
       "    </tr>\n",
       "  </tbody>\n",
       "</table>\n",
       "</div>"
      ],
      "text/plain": [
       "   0  1  2  3  4\n",
       "0  1  2  3  4  5\n",
       "1  1  2  3  4  5\n",
       "2  1  2  3  4  5\n",
       "3  1  2  3  4  5\n",
       "4  1  2  3  4  5"
      ]
     },
     "execution_count": 72,
     "metadata": {},
     "output_type": "execute_result"
    }
   ],
   "source": [
    "numbersbig = [] \n",
    "\n",
    "for i in range(0,10): \n",
    "    numbersbig.append(numbers)\n",
    "\n",
    "print(numbersbig)\n",
    "df_num.head()"
   ]
  },
  {
   "cell_type": "code",
   "execution_count": 67,
   "metadata": {},
   "outputs": [
    {
     "data": {
      "text/html": [
       "<div>\n",
       "<style scoped>\n",
       "    .dataframe tbody tr th:only-of-type {\n",
       "        vertical-align: middle;\n",
       "    }\n",
       "\n",
       "    .dataframe tbody tr th {\n",
       "        vertical-align: top;\n",
       "    }\n",
       "\n",
       "    .dataframe thead th {\n",
       "        text-align: right;\n",
       "    }\n",
       "</style>\n",
       "<table border=\"1\" class=\"dataframe\">\n",
       "  <thead>\n",
       "    <tr style=\"text-align: right;\">\n",
       "      <th></th>\n",
       "      <th>0</th>\n",
       "      <th>1</th>\n",
       "      <th>2</th>\n",
       "      <th>3</th>\n",
       "      <th>4</th>\n",
       "    </tr>\n",
       "  </thead>\n",
       "  <tbody>\n",
       "    <tr>\n",
       "      <th>0</th>\n",
       "      <td>1.0</td>\n",
       "      <td>2.0</td>\n",
       "      <td>3.0</td>\n",
       "      <td>4.0</td>\n",
       "      <td>5.0</td>\n",
       "    </tr>\n",
       "    <tr>\n",
       "      <th>1</th>\n",
       "      <td>1.0</td>\n",
       "      <td>2.0</td>\n",
       "      <td>3.0</td>\n",
       "      <td>4.0</td>\n",
       "      <td>5.0</td>\n",
       "    </tr>\n",
       "    <tr>\n",
       "      <th>2</th>\n",
       "      <td>1.0</td>\n",
       "      <td>2.0</td>\n",
       "      <td>3.0</td>\n",
       "      <td>4.0</td>\n",
       "      <td>5.0</td>\n",
       "    </tr>\n",
       "    <tr>\n",
       "      <th>3</th>\n",
       "      <td>1.0</td>\n",
       "      <td>2.0</td>\n",
       "      <td>3.0</td>\n",
       "      <td>4.0</td>\n",
       "      <td>5.0</td>\n",
       "    </tr>\n",
       "    <tr>\n",
       "      <th>4</th>\n",
       "      <td>1.0</td>\n",
       "      <td>2.0</td>\n",
       "      <td>3.0</td>\n",
       "      <td>4.0</td>\n",
       "      <td>5.0</td>\n",
       "    </tr>\n",
       "    <tr>\n",
       "      <th>5</th>\n",
       "      <td>1.0</td>\n",
       "      <td>2.0</td>\n",
       "      <td>3.0</td>\n",
       "      <td>4.0</td>\n",
       "      <td>5.0</td>\n",
       "    </tr>\n",
       "    <tr>\n",
       "      <th>6</th>\n",
       "      <td>1.0</td>\n",
       "      <td>2.0</td>\n",
       "      <td>3.0</td>\n",
       "      <td>4.0</td>\n",
       "      <td>5.0</td>\n",
       "    </tr>\n",
       "    <tr>\n",
       "      <th>7</th>\n",
       "      <td>1.0</td>\n",
       "      <td>2.0</td>\n",
       "      <td>3.0</td>\n",
       "      <td>4.0</td>\n",
       "      <td>5.0</td>\n",
       "    </tr>\n",
       "    <tr>\n",
       "      <th>8</th>\n",
       "      <td>1.0</td>\n",
       "      <td>2.0</td>\n",
       "      <td>3.0</td>\n",
       "      <td>4.0</td>\n",
       "      <td>5.0</td>\n",
       "    </tr>\n",
       "    <tr>\n",
       "      <th>9</th>\n",
       "      <td>1.0</td>\n",
       "      <td>2.0</td>\n",
       "      <td>3.0</td>\n",
       "      <td>4.0</td>\n",
       "      <td>5.0</td>\n",
       "    </tr>\n",
       "  </tbody>\n",
       "</table>\n",
       "</div>"
      ],
      "text/plain": [
       "     0    1    2    3    4\n",
       "0  1.0  2.0  3.0  4.0  5.0\n",
       "1  1.0  2.0  3.0  4.0  5.0\n",
       "2  1.0  2.0  3.0  4.0  5.0\n",
       "3  1.0  2.0  3.0  4.0  5.0\n",
       "4  1.0  2.0  3.0  4.0  5.0\n",
       "5  1.0  2.0  3.0  4.0  5.0\n",
       "6  1.0  2.0  3.0  4.0  5.0\n",
       "7  1.0  2.0  3.0  4.0  5.0\n",
       "8  1.0  2.0  3.0  4.0  5.0\n",
       "9  1.0  2.0  3.0  4.0  5.0"
      ]
     },
     "execution_count": 67,
     "metadata": {},
     "output_type": "execute_result"
    }
   ],
   "source": [
    "df_num = pd.DataFrame(data=numbersbig)\n",
    "df_num.head()\n",
    "\n",
    "f = lambda x: float(x)\n",
    "g = lambda x: '%.2f' % x \n",
    "\n",
    "df_num.applymap(g)"
   ]
  },
  {
   "cell_type": "code",
   "execution_count": 88,
   "metadata": {},
   "outputs": [
    {
     "data": {
      "text/html": [
       "<div>\n",
       "<style scoped>\n",
       "    .dataframe tbody tr th:only-of-type {\n",
       "        vertical-align: middle;\n",
       "    }\n",
       "\n",
       "    .dataframe tbody tr th {\n",
       "        vertical-align: top;\n",
       "    }\n",
       "\n",
       "    .dataframe thead th {\n",
       "        text-align: right;\n",
       "    }\n",
       "</style>\n",
       "<table border=\"1\" class=\"dataframe\">\n",
       "  <thead>\n",
       "    <tr style=\"text-align: right;\">\n",
       "      <th></th>\n",
       "      <th>2</th>\n",
       "      <th>3</th>\n",
       "      <th>4</th>\n",
       "    </tr>\n",
       "  </thead>\n",
       "  <tbody>\n",
       "    <tr>\n",
       "      <th>1</th>\n",
       "      <td>3</td>\n",
       "      <td>4</td>\n",
       "      <td>5</td>\n",
       "    </tr>\n",
       "    <tr>\n",
       "      <th>2</th>\n",
       "      <td>3</td>\n",
       "      <td>4</td>\n",
       "      <td>5</td>\n",
       "    </tr>\n",
       "    <tr>\n",
       "      <th>3</th>\n",
       "      <td>3</td>\n",
       "      <td>4</td>\n",
       "      <td>5</td>\n",
       "    </tr>\n",
       "    <tr>\n",
       "      <th>4</th>\n",
       "      <td>3</td>\n",
       "      <td>4</td>\n",
       "      <td>5</td>\n",
       "    </tr>\n",
       "  </tbody>\n",
       "</table>\n",
       "</div>"
      ],
      "text/plain": [
       "   2  3  4\n",
       "1  3  4  5\n",
       "2  3  4  5\n",
       "3  3  4  5\n",
       "4  3  4  5"
      ]
     },
     "execution_count": 88,
     "metadata": {},
     "output_type": "execute_result"
    }
   ],
   "source": [
    "df_num.iloc[[1,2,3,4],[2,3,4]]"
   ]
  },
  {
   "cell_type": "code",
   "execution_count": 46,
   "metadata": {},
   "outputs": [],
   "source": [
    "import pandas as pd\n",
    "df_num = pd.DataFrame(data=numbers)"
   ]
  },
  {
   "cell_type": "code",
   "execution_count": 71,
   "metadata": {},
   "outputs": [
    {
     "data": {
      "text/plain": [
       "0    5.00\n",
       "1    5.00\n",
       "2    5.00\n",
       "3    5.00\n",
       "4    5.00\n",
       "5    5.00\n",
       "6    5.00\n",
       "7    5.00\n",
       "8    5.00\n",
       "9    5.00\n",
       "Name: 4, dtype: object"
      ]
     },
     "execution_count": 71,
     "metadata": {},
     "output_type": "execute_result"
    }
   ],
   "source": [
    "df_num[4].map(g)"
   ]
  },
  {
   "cell_type": "code",
   "execution_count": 91,
   "metadata": {},
   "outputs": [
    {
     "data": {
      "text/html": [
       "<div>\n",
       "<style scoped>\n",
       "    .dataframe tbody tr th:only-of-type {\n",
       "        vertical-align: middle;\n",
       "    }\n",
       "\n",
       "    .dataframe tbody tr th {\n",
       "        vertical-align: top;\n",
       "    }\n",
       "\n",
       "    .dataframe thead th {\n",
       "        text-align: right;\n",
       "    }\n",
       "</style>\n",
       "<table border=\"1\" class=\"dataframe\">\n",
       "  <thead>\n",
       "    <tr style=\"text-align: right;\">\n",
       "      <th></th>\n",
       "      <th>1</th>\n",
       "      <th>2</th>\n",
       "    </tr>\n",
       "  </thead>\n",
       "  <tbody>\n",
       "    <tr>\n",
       "      <th>0</th>\n",
       "      <td>2</td>\n",
       "      <td>3</td>\n",
       "    </tr>\n",
       "    <tr>\n",
       "      <th>1</th>\n",
       "      <td>2</td>\n",
       "      <td>3</td>\n",
       "    </tr>\n",
       "    <tr>\n",
       "      <th>2</th>\n",
       "      <td>2</td>\n",
       "      <td>3</td>\n",
       "    </tr>\n",
       "    <tr>\n",
       "      <th>3</th>\n",
       "      <td>2</td>\n",
       "      <td>3</td>\n",
       "    </tr>\n",
       "    <tr>\n",
       "      <th>4</th>\n",
       "      <td>2</td>\n",
       "      <td>3</td>\n",
       "    </tr>\n",
       "    <tr>\n",
       "      <th>5</th>\n",
       "      <td>2</td>\n",
       "      <td>3</td>\n",
       "    </tr>\n",
       "    <tr>\n",
       "      <th>6</th>\n",
       "      <td>2</td>\n",
       "      <td>3</td>\n",
       "    </tr>\n",
       "    <tr>\n",
       "      <th>7</th>\n",
       "      <td>2</td>\n",
       "      <td>3</td>\n",
       "    </tr>\n",
       "    <tr>\n",
       "      <th>8</th>\n",
       "      <td>2</td>\n",
       "      <td>3</td>\n",
       "    </tr>\n",
       "    <tr>\n",
       "      <th>9</th>\n",
       "      <td>2</td>\n",
       "      <td>3</td>\n",
       "    </tr>\n",
       "  </tbody>\n",
       "</table>\n",
       "</div>"
      ],
      "text/plain": [
       "   1  2\n",
       "0  2  3\n",
       "1  2  3\n",
       "2  2  3\n",
       "3  2  3\n",
       "4  2  3\n",
       "5  2  3\n",
       "6  2  3\n",
       "7  2  3\n",
       "8  2  3\n",
       "9  2  3"
      ]
     },
     "execution_count": 91,
     "metadata": {},
     "output_type": "execute_result"
    }
   ],
   "source": [
    "df_num[[1,2]]"
   ]
  },
  {
   "cell_type": "code",
   "execution_count": 42,
   "metadata": {},
   "outputs": [
    {
     "data": {
      "text/plain": [
       "0    3\n",
       "dtype: int64"
      ]
     },
     "execution_count": 42,
     "metadata": {},
     "output_type": "execute_result"
    }
   ],
   "source": [
    "df_num.apply(f)"
   ]
  },
  {
   "cell_type": "code",
   "execution_count": 45,
   "metadata": {},
   "outputs": [
    {
     "name": "stdout",
     "output_type": "stream",
     "text": [
      "[1, 2, 3, 4, 5, 12, 3, 5, 123]\n",
      "1 2 3 4 5 12 3 5 123\n"
     ]
    }
   ],
   "source": [
    "numbers = [1,2,3,4,5]\n",
    "more_numbers = [*numbers, 12,3,5,123]\n",
    "\n",
    "print(more_numbers)\n",
    "print(*more_numbers)"
   ]
  },
  {
   "cell_type": "code",
   "execution_count": 43,
   "metadata": {},
   "outputs": [
    {
     "data": {
      "text/html": [
       "<div>\n",
       "<style scoped>\n",
       "    .dataframe tbody tr th:only-of-type {\n",
       "        vertical-align: middle;\n",
       "    }\n",
       "\n",
       "    .dataframe tbody tr th {\n",
       "        vertical-align: top;\n",
       "    }\n",
       "\n",
       "    .dataframe thead th {\n",
       "        text-align: right;\n",
       "    }\n",
       "</style>\n",
       "<table border=\"1\" class=\"dataframe\">\n",
       "  <thead>\n",
       "    <tr style=\"text-align: right;\">\n",
       "      <th></th>\n",
       "      <th>0</th>\n",
       "    </tr>\n",
       "  </thead>\n",
       "  <tbody>\n",
       "    <tr>\n",
       "      <th>0</th>\n",
       "      <td>4</td>\n",
       "    </tr>\n",
       "    <tr>\n",
       "      <th>1</th>\n",
       "      <td>6</td>\n",
       "    </tr>\n",
       "    <tr>\n",
       "      <th>2</th>\n",
       "      <td>7</td>\n",
       "    </tr>\n",
       "    <tr>\n",
       "      <th>3</th>\n",
       "      <td>7</td>\n",
       "    </tr>\n",
       "    <tr>\n",
       "      <th>4</th>\n",
       "      <td>4</td>\n",
       "    </tr>\n",
       "    <tr>\n",
       "      <th>5</th>\n",
       "      <td>4</td>\n",
       "    </tr>\n",
       "    <tr>\n",
       "      <th>6</th>\n",
       "      <td>8</td>\n",
       "    </tr>\n",
       "    <tr>\n",
       "      <th>7</th>\n",
       "      <td>3</td>\n",
       "    </tr>\n",
       "    <tr>\n",
       "      <th>8</th>\n",
       "      <td>4</td>\n",
       "    </tr>\n",
       "    <tr>\n",
       "      <th>9</th>\n",
       "      <td>5</td>\n",
       "    </tr>\n",
       "  </tbody>\n",
       "</table>\n",
       "</div>"
      ],
      "text/plain": [
       "   0\n",
       "0  4\n",
       "1  6\n",
       "2  7\n",
       "3  7\n",
       "4  4\n",
       "5  4\n",
       "6  8\n",
       "7  3\n",
       "8  4\n",
       "9  5"
      ]
     },
     "execution_count": 43,
     "metadata": {},
     "output_type": "execute_result"
    }
   ],
   "source": [
    "df_num"
   ]
  },
  {
   "cell_type": "code",
   "execution_count": 92,
   "metadata": {},
   "outputs": [],
   "source": [
    "import uuid"
   ]
  },
  {
   "cell_type": "code",
   "execution_count": 94,
   "metadata": {},
   "outputs": [],
   "source": [
    "user_id = uuid.uuid1()"
   ]
  },
  {
   "cell_type": "code",
   "execution_count": 95,
   "metadata": {},
   "outputs": [
    {
     "name": "stdout",
     "output_type": "stream",
     "text": [
      "afbe251a-ea13-11e9-8128-484d7ee5a273\n"
     ]
    }
   ],
   "source": [
    "print(user_id)"
   ]
  },
  {
   "cell_type": "code",
   "execution_count": 6,
   "metadata": {},
   "outputs": [],
   "source": [
    "# Jumping on Clouds \n",
    "\n",
    "n = 7\n",
    "nn = '0 0 1 0 0 1 0' \n",
    "\n",
    "# minimum number of jumps 1 or 2 steps "
   ]
  },
  {
   "cell_type": "code",
   "execution_count": 7,
   "metadata": {},
   "outputs": [],
   "source": [
    "c = nn.split()"
   ]
  },
  {
   "cell_type": "code",
   "execution_count": 8,
   "metadata": {},
   "outputs": [],
   "source": [
    "def jumpingOnClouds(c):\n",
    "    steps = 0  \n",
    "    current = 0\n",
    "\n",
    "    while current < n:\n",
    "        \n",
    "        if current+2 == n-1:\n",
    "            steps += 1 \n",
    "            break\n",
    "            \n",
    "        elif current+1 == n-1:\n",
    "            steps += 1 \n",
    "            break \n",
    "            \n",
    "        else: \n",
    "            if c[current+2] == '1': \n",
    "                current = current+1 \n",
    "            elif c[current+2] == '0':\n",
    "                current = current+2\n",
    "        steps += 1 \n",
    "        \n",
    "    return(steps)\n"
   ]
  },
  {
   "cell_type": "code",
   "execution_count": 9,
   "metadata": {},
   "outputs": [
    {
     "data": {
      "text/plain": [
       "4"
      ]
     },
     "execution_count": 9,
     "metadata": {},
     "output_type": "execute_result"
    }
   ],
   "source": [
    "jumpingOnClouds(c)"
   ]
  },
  {
   "cell_type": "code",
   "execution_count": 1,
   "metadata": {},
   "outputs": [],
   "source": [
    "# P(x; u) = (e ** -u)(u**x)/x!\n",
    "\n",
    "from math import e\n",
    "\n",
    "def factor(num):\n",
    "    fact = 1\n",
    "    if num != 0:\n",
    "        for i in range(1, num + 1):\n",
    "            fact *= i\n",
    "    return fact\n",
    "\n",
    "def poi_dist(avg_success, actual_success):\n",
    "    prob_k_success = (avg_success ** actual_success * e**(-avg_success)) / factor(actual_success)\n",
    "    \n",
    "    return prob_k_success \n",
    "\n",
    "round(poi_dist(2.5, 5), 3) \n"
   ]
  },
  {
   "cell_type": "code",
   "execution_count": 14,
   "metadata": {},
   "outputs": [
    {
     "data": {
      "text/plain": [
       "0.32898435943145177"
      ]
     },
     "execution_count": 14,
     "metadata": {},
     "output_type": "execute_result"
    }
   ],
   "source": [
    "# Poisson distribution  \n",
    "\n",
    "# Machine type A or type B \n",
    "\n",
    "# number of repairs X that machine A needs is u = 0.88 \n",
    "### daily cost of operation of A is C_A = 160 + 40X**2 \n",
    "\n",
    "# number of repairs Y that machine B needs is u = 1.55 \n",
    "### daily cost of operation is C_B = 128 + 40Y**2 \n",
    "\n",
    "#poi_dist(0.88, 1)\n",
    "\n",
    "poi_dist(1.55, 1)\n",
    "\n",
    "#print(expected_dailycost_A)\n",
    "#print(expected_dailycost_B)\n"
   ]
  },
  {
   "cell_type": "code",
   "execution_count": 22,
   "metadata": {},
   "outputs": [],
   "source": [
    "CA = 160 + 40*(0.88 + 0.88**2)\n",
    "CB = 128 + 40*(1.55 + 1.55**2) \n",
    "\n",
    "print(CA)\n",
    "print(CB)"
   ]
  },
  {
   "cell_type": "code",
   "execution_count": 23,
   "metadata": {},
   "outputs": [
    {
     "name": "stdout",
     "output_type": "stream",
     "text": [
      "226.176\n",
      "286.1\n"
     ]
    }
   ],
   "source": []
  },
  {
   "cell_type": "code",
   "execution_count": 26,
   "metadata": {},
   "outputs": [
    {
     "name": "stdout",
     "output_type": "stream",
     "text": [
      "-0.25\n"
     ]
    }
   ],
   "source": [
    "## Normal Distribution I \n",
    "\n",
    "# time to assemble car is X \n",
    "# normally distributed with u = 20 and sd = 2 \n",
    "\n",
    "# 1. probability car can be assembled < 19.5 hours \n",
    "# 2. probability car can be assembled between 20-22 hours \n",
    "\n",
    "#Z = X - u / sd "
   ]
  },
  {
   "cell_type": "code",
   "execution_count": 40,
   "metadata": {},
   "outputs": [
    {
     "name": "stdout",
     "output_type": "stream",
     "text": [
      "0.401\n",
      "0.341\n"
     ]
    }
   ],
   "source": [
    "import scipy.stats as st \n",
    "\n",
    "Z1 = (19.5 - 20)/2 \n",
    "Z2a = (20-20)/2\n",
    "Z2b = (22-20)/2\n",
    "\n",
    "z1_cdf = st.norm.cdf(Z1)\n",
    "print(round(z1_cdf,3))\n",
    "z2_cdf = abs(st.norm.cdf(Z2a)-st.norm.cdf(Z2b))\n",
    "print(round(z2_cdf, 3)) \n"
   ]
  },
  {
   "cell_type": "code",
   "execution_count": null,
   "metadata": {},
   "outputs": [],
   "source": []
  }
 ],
 "metadata": {
  "kernelspec": {
   "display_name": "Python 3",
   "language": "python",
   "name": "python3"
  },
  "language_info": {
   "codemirror_mode": {
    "name": "ipython",
    "version": 3
   },
   "file_extension": ".py",
   "mimetype": "text/x-python",
   "name": "python",
   "nbconvert_exporter": "python",
   "pygments_lexer": "ipython3",
   "version": "3.7.1"
  }
 },
 "nbformat": 4,
 "nbformat_minor": 2
}
