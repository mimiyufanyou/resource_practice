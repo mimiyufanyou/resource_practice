{
 "cells": [
  {
   "cell_type": "code",
   "execution_count": 1,
   "metadata": {},
   "outputs": [
    {
     "name": "stdout",
     "output_type": "stream",
     "text": [
      "7 4\n",
      "ive got a lovely bunch of coconuts\n",
      "ive got some coconuts\n"
     ]
    }
   ],
   "source": [
    "# Hash Tables: Ransom Note\n",
    "# Match magazine string to note string to see if sentence can be constructed\n",
    "\n",
    "# Using counter in collections \n",
    "\n",
    "import collections \n",
    "\n",
    "m,n = input().split()\n",
    "mag = input().split()\n",
    "note = input().split()\n",
    "\n",
    "def checkMagazine(mag, note): \n",
    "    count_mag = collections.Counter(mag) \n",
    "    count_note = collections.Counter(note)\n",
    "    \n",
    "    status = [] \n",
    "    \n",
    "    for k,v in count_note.items():\n",
    "        status.append(count_mag.get(k)) \n",
    "    \n",
    "    if status.count(None) >=1: \n",
    "        print('No')\n",
    "    else: \n",
    "        print('Yes')\n",
    "        \n",
    "checkMagazine(mag, note)"
   ]
  },
  {
   "cell_type": "code",
   "execution_count": null,
   "metadata": {},
   "outputs": [],
   "source": [
    "# Two Strings \n",
    "# Given two strings, determine if they share a common substring \n",
    "\n",
    "# Using set intersection \n",
    "\n",
    "def twoStrings(s1, s2):\n",
    "    s1 = set(list(s1))\n",
    "    s2 = set(list(s2))\n",
    "    \n",
    "    if len(s1.intersection(s2)) >= 1: \n",
    "        return 'YES'\n",
    "    else: \n",
    "        return 'NO'"
   ]
  },
  {
   "cell_type": "code",
   "execution_count": 47,
   "metadata": {},
   "outputs": [],
   "source": [
    "# Alternating Characters \n",
    "# Given string A's and B's \n",
    "\n",
    "def alternatingCharacters(s):\n",
    "    s = list(s)\n",
    "    counter = 0 \n",
    "    \n",
    "    for i in range(len(s)-1):\n",
    "        if s[i] == s[i+1]: \n",
    "            counter += 1 \n",
    "        else: \n",
    "            continue\n",
    "    \n",
    "    return counter\n",
    "\n",
    "s = 'AAAA'\n",
    "alternatingCharacters(s)"
   ]
  },
  {
   "cell_type": "code",
   "execution_count": 97,
   "metadata": {},
   "outputs": [],
   "source": [
    "# Mark and Toys\n",
    "# Sorting \n",
    "\n",
    "# Maximize # of items we can get \n",
    "# Below solution times out, not efficient large lists \n",
    "\n",
    "prices = [1,4,5,2]\n",
    "n = 4\n",
    "k = 7 \n",
    "\n",
    "def maximumToys1(prices, k): \n",
    "    prices = sorted(prices)\n",
    "    runsum = []\n",
    "    \n",
    "    for i in range(n+1):\n",
    "        tot_sum = sum(prices[0:0+i])\n",
    "        runsum.append(tot_sum)\n",
    "    \n",
    "    runsum = list(filter(lambda x: x<=k, runsum))\n",
    "    return len(runsum)-1"
   ]
  },
  {
   "cell_type": "code",
   "execution_count": 99,
   "metadata": {},
   "outputs": [],
   "source": [
    "# Below solution works much better\n",
    "\n",
    "prices = [1,4,5,2]\n",
    "n = 4\n",
    "k = 7 \n",
    "\n",
    "def maximumToys(prices, k):\n",
    "    prices = sorted(prices)\n",
    "    count = 0 \n",
    "    \n",
    "    for i in prices: \n",
    "        if (i <= k):\n",
    "            count += 1 \n",
    "            k -= i \n",
    "        else: \n",
    "            break \n",
    "    \n",
    "    return count \n",
    "\n",
    "maximumToys(prices, k)"
   ]
  },
  {
   "cell_type": "code",
   "execution_count": 116,
   "metadata": {},
   "outputs": [
    {
     "name": "stdout",
     "output_type": "stream",
     "text": [
      "Array is sorted in 3 swaps\n",
      "First Element: 1\n",
      "Last Element: 3\n"
     ]
    }
   ],
   "source": [
    "# Bubble Sort \n",
    "# Count Swaps \n",
    "\n",
    "n = 3 \n",
    "nn = '3 2 1'\n",
    "\n",
    "nn = list(map(int, nn.split()))\n",
    "jj = nn\n",
    "count = 0 \n",
    "\n",
    "for i in range(n):\n",
    "    for i in range(n-1):\n",
    "        if nn[i] > nn[i+1]:\n",
    "            jj[i], jj[i+1] = nn[i+1], nn[i]\n",
    "            count += 1 \n",
    "        else: \n",
    "            jj[i], jj[i+1] = nn[i], nn[i+1]\n",
    "            \n",
    "print('Array is sorted in {} swaps'.format(count))\n",
    "print('First Element: {}'.format(jj[0]))\n",
    "print('Last Element: {}'.format(jj[-1]))\n"
   ]
  },
  {
   "cell_type": "code",
   "execution_count": 21,
   "metadata": {},
   "outputs": [
    {
     "name": "stdout",
     "output_type": "stream",
     "text": [
      "1\n"
     ]
    }
   ],
   "source": [
    "# Greedy Algorithms \n",
    "# Minimum Absolute Difference in Array \n",
    "\n",
    "# Below is not perfomant for some reason... \n",
    "# It likely doesn't need subset/doesn't like subset \n",
    "# If you order it first and do each consecutive, it works... \n",
    "\n",
    "# One test case failed when using a \"set\" for array.\n",
    "\n",
    "import itertools \n",
    "import sys\n",
    "\n",
    "n = 3\n",
    "arr = [3,-7,0, 8,2]\n",
    "\n",
    "def minimumAbsoluteDifference(arr):\n",
    "    arr = sorted(list(arr))\n",
    "    min_diff = sys.maxsize\n",
    "    \n",
    "    #subsetsize = 2 \n",
    "    #subsets = set(list(itertools.combinations(arr, subsetsize)))\n",
    "    \n",
    "    for x in range(len(arr)-1):\n",
    "        tmp_diff = abs(arr[x]-arr[x+1])\n",
    "        if tmp_diff < min_diff: \n",
    "            min_diff = tmp_diff\n",
    "    \n",
    "    return min_diff\n",
    "    \n",
    "minimumAbsoluteDifference(arr)\n",
    "        "
   ]
  },
  {
   "cell_type": "code",
   "execution_count": 73,
   "metadata": {},
   "outputs": [],
   "source": [
    "# Greedy Algorithms \n",
    "# Luck Balance \n",
    "\n",
    "k = 3 #n_important_contests \n",
    "n = 7 #n_of_prelims \n",
    "\n",
    "contests = [[5,1], [2,1], [1,1], [8,1], [10,0], [5,0]]\n",
    "\n",
    "def luckBalance(k, contests):\n",
    "    cont_sort = sorted(contests, key=lambda x: (-x[1], x[0]), reverse=True)\n",
    "      \n",
    "    lowimp = [x for x in cont_sort if x[1] == 0]\n",
    "    highimp = [x for x in cont_sort if x[1] == 1]\n",
    "    \n",
    "    luck = 0\n",
    "\n",
    "    free_luck = sum([x[0] for x in cont_sort if x[1] == 0])\n",
    "    \n",
    "    for i in range(k): \n",
    "        luck += highimp[i][0]\n",
    "    \n",
    "    for i in range(k):\n",
    "        highimp.pop(0)\n",
    "        \n",
    "    neg_luck = sum([x[0] for x in highimp])\n",
    "    \n",
    "    return luck+free_luck-neg_luck\n"
   ]
  },
  {
   "cell_type": "code",
   "execution_count": null,
   "metadata": {},
   "outputs": [],
   "source": [
    "## More optimized solution\n",
    "\n",
    "def luckBalance(k, contests):\n",
    "    # sort from greatest luck to least luck\n",
    "    contests.sort(reverse=True)\n",
    "    luck = 0\n",
    "\n",
    "    for contest in contests:\n",
    "        if contest[1] == 0:\n",
    "            luck += contest[0]\n",
    "        elif k > 0:\n",
    "            luck += contest[0]\n",
    "            k -= 1\n",
    "        else:\n",
    "            luck -= contest[0]\n",
    "\n",
    "    return luck"
   ]
  },
  {
   "cell_type": "code",
   "execution_count": null,
   "metadata": {},
   "outputs": [],
   "source": []
  }
 ],
 "metadata": {
  "kernelspec": {
   "display_name": "Python 3",
   "language": "python",
   "name": "python3"
  },
  "language_info": {
   "codemirror_mode": {
    "name": "ipython",
    "version": 3
   },
   "file_extension": ".py",
   "mimetype": "text/x-python",
   "name": "python",
   "nbconvert_exporter": "python",
   "pygments_lexer": "ipython3",
   "version": "3.7.5"
  }
 },
 "nbformat": 4,
 "nbformat_minor": 2
}
