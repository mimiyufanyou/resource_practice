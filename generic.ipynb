{
 "cells": [
  {
   "cell_type": "code",
   "execution_count": 10,
   "metadata": {},
   "outputs": [],
   "source": [
    "import pandas as pd \n",
    "import numpy as np \n",
    "import sklearn as sk\n",
    "import plotly.express as px\n",
    "import os\n",
    "import pyodbc\n",
    "\n",
    "from scipy import stats \n",
    "from scipy.stats import boxcox \n",
    "from scipy.stats import boxcox \n"
   ]
  },
  {
   "cell_type": "code",
   "execution_count": 9,
   "metadata": {},
   "outputs": [],
   "source": [
    "#os.chdir('C:\\\\Users\\\\miyuf\\\\Desktop')\n",
    "#print(os.getcwd())\n",
    "\n",
    "conn_hobi = pyodbc.connect('Driver={SQL Server Native Client 11.0};'\n",
    "                    'Server=HOBISQL01\\BISQLDEV01;'\n",
    "                    'Database=EDW;'\n",
    "                    'Trusted_Connection=yes;')\n",
    "\n",
    "conn_cm = pyodbc.connect('Driver={SQL Server};'\n",
    "                    'Server=cmdataanalysis;'\n",
    "                    'Database=analytics2;'\n",
    "                    'Trusted_Connection=yes;'\n",
    "                    'UID={MECNET\\miyuf};'\n",
    "                    'PWD={mountain6}')\n",
    "\n",
    "sql_sample = '''select * analytics2.dbo.temp_member_past_lifecyclevolumes \n",
    "where dimmember_sk = 301351\n",
    "\n",
    "'''\n",
    "df_test = pd.read_sql(sql_sample, conn_hobi)\n"
   ]
  },
  {
   "cell_type": "code",
   "execution_count": 4,
   "metadata": {},
   "outputs": [],
   "source": []
  },
  {
   "cell_type": "code",
   "execution_count": null,
   "metadata": {},
   "outputs": [],
   "source": []
  }
 ],
 "metadata": {
  "kernelspec": {
   "display_name": "Python 3",
   "language": "python",
   "name": "python3"
  },
  "language_info": {
   "codemirror_mode": {
    "name": "ipython",
    "version": 3
   },
   "file_extension": ".py",
   "mimetype": "text/x-python",
   "name": "python",
   "nbconvert_exporter": "python",
   "pygments_lexer": "ipython3",
   "version": "3.7.1"
  }
 },
 "nbformat": 4,
 "nbformat_minor": 2
}
