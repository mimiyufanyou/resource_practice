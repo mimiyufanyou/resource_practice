{
 "cells": [
  {
   "cell_type": "code",
   "execution_count": 1,
   "metadata": {},
   "outputs": [
    {
     "name": "stdout",
     "output_type": "stream",
     "text": [
      "7 4\n",
      "ive got a lovely bunch of coconuts\n",
      "ive got some coconuts\n"
     ]
    }
   ],
   "source": [
    "# Hash Tables: Ransom Note\n",
    "# Match magazine string to note string to see if sentence can be constructed\n",
    "import collections \n",
    "\n",
    "m,n = input().split()\n",
    "mag = input().split()\n",
    "note = input().split()\n",
    "\n",
    "def checkMagazine(mag, note): \n",
    "    count_mag = collections.Counter(mag) \n",
    "    count_note = collections.Counter(note)\n",
    "    \n",
    "    status = [] \n",
    "    \n",
    "    for k,v in count_note.items():\n",
    "        status.append(count_mag.get(k)) \n",
    "    \n",
    "    if status.count(None) >=1: \n",
    "        print('No')\n",
    "    else: \n",
    "        print('Yes')\n",
    "        \n",
    "checkMagazine(mag, note)"
   ]
  }
 ],
 "metadata": {
  "kernelspec": {
   "display_name": "Python 3",
   "language": "python",
   "name": "python3"
  },
  "language_info": {
   "codemirror_mode": {
    "name": "ipython",
    "version": 3
   },
   "file_extension": ".py",
   "mimetype": "text/x-python",
   "name": "python",
   "nbconvert_exporter": "python",
   "pygments_lexer": "ipython3",
   "version": "3.7.1"
  }
 },
 "nbformat": 4,
 "nbformat_minor": 2
}
