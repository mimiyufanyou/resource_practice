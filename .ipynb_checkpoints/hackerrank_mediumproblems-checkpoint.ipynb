{
 "cells": [
  {
   "cell_type": "code",
   "execution_count": 82,
   "metadata": {},
   "outputs": [],
   "source": [
    "## New Year Chaos \n",
    "\n",
    "#Minimum number of bribes that took place to get queue into state\n",
    "#No need for sorting - just see how many moves each person has taken \n",
    "\n",
    "def minimumBribes(q): \n",
    "    \n",
    "    #initialize moves \n",
    "    moves = 0 \n",
    "    \n",
    "    #align q array with index\n",
    "    q = [p-1 for p in q]\n",
    "    \n",
    "    #with enumerate list index \n",
    "    #if difference of P and i greater than 2 swaps, too chaotic\n",
    "    for i,P in enumerate(q):\n",
    "        if P - i > 2: \n",
    "            print('Too chaotic')\n",
    "            return \n",
    "    \n",
    "    #otherwise, for each pair, if q is bigger, than move\n",
    "        for j in range(max(P-1,0), i):\n",
    "            if q[j] > P: \n",
    "                moves += 1 \n",
    "    \n",
    "    print(moves)\n",
    "\n",
    "q = [1,2,3,4,5,6,7,8,9]\n",
    "n = 8\n",
    "t = 1 \n",
    "\n",
    "minimumBribes(q)"
   ]
  },
  {
   "cell_type": "code",
   "execution_count": 84,
   "metadata": {},
   "outputs": [
    {
     "name": "stdout",
     "output_type": "stream",
     "text": [
      "0 7\n",
      "1 1\n",
      "2 3\n",
      "3 2\n",
      "4 4\n",
      "5 5\n",
      "6 6\n"
     ]
    }
   ],
   "source": [
    "# minimum number of swaps required to sort array in ascending order \n",
    "\n",
    "arr = [7,1,3,2,4,5,6]\n",
    "for i,P in enumerate(arr):\n",
    "    print(i,P)\n"
   ]
  },
  {
   "cell_type": "code",
   "execution_count": null,
   "metadata": {},
   "outputs": [],
   "source": [
    "# Bubble Sort, Selection, Insertion, Heap, Merge, Quick Sort \n",
    "# Bubble 5, Selection 1.2, Insertion 1.6, Heap 0.04, Merge 0.02 \n",
    "\n",
    "# Quick Sort 0.017 fastest \n",
    "\n",
    "# Hoare Partition Scheme \n",
    "\n",
    "# select the middle element to pivot, or median or random \n",
    "\n",
    "# if an element at i (left side of pivot) larger than element j \n",
    "# then swap them. \n",
    "\n",
    "def partition(nums, low, high):\n",
    "    # We select the middle element to be the pivot. Some implementations select\n",
    "    # the first element or the last element. Sometimes the median value becomes\n",
    "    # the pivot, or a random one. There are many more strategies that can be\n",
    "    # chosen or created.\n",
    "    pivot = nums[(low + high) // 2]\n",
    "    i = low - 1\n",
    "    j = high + 1\n",
    "    while True:\n",
    "        i += 1\n",
    "        while nums[i] < pivot:\n",
    "            i += 1\n",
    "\n",
    "        j -= 1\n",
    "        while nums[j] > pivot:\n",
    "            j -= 1\n",
    "\n",
    "        if i >= j:\n",
    "            return j\n",
    "\n",
    "        # If an element at i (on the left of the pivot) is larger than the\n",
    "        # element at j (on right right of the pivot), then swap them\n",
    "        nums[i], nums[j] = nums[j], nums[i]\n",
    "\n",
    "\n",
    "def quick_sort(nums):\n",
    "    # Create a helper function that will be called recursively\n",
    "    def _quick_sort(items, low, high):\n",
    "        if low < high:\n",
    "            # This is the index after the pivot, where our lists are split\n",
    "            split_index = partition(items, low, high)\n",
    "            _quick_sort(items, low, split_index)\n",
    "            _quick_sort(items, split_index + 1, high)\n",
    "\n",
    "    _quick_sort(nums, 0, len(nums) - 1)\n",
    "\n",
    "\n",
    "# Verify it works\n",
    "random_list_of_nums = [22, 5, 1, 18, 99]\n",
    "quick_sort(random_list_of_nums)\n",
    "print(random_list_of_nums)\n"
   ]
  },
  {
   "cell_type": "code",
   "execution_count": null,
   "metadata": {},
   "outputs": [],
   "source": [
    "# Sherlock and Anagrams \n",
    "\n",
    "s = 'mom' \n",
    "\n",
    "# function sherlockAndAnagrams returns an integer that represents\n",
    "# the number of anagrammatic pairs of substrings in s \n",
    "\n"
   ]
  }
 ],
 "metadata": {
  "kernelspec": {
   "display_name": "Python 3",
   "language": "python",
   "name": "python3"
  },
  "language_info": {
   "codemirror_mode": {
    "name": "ipython",
    "version": 3
   },
   "file_extension": ".py",
   "mimetype": "text/x-python",
   "name": "python",
   "nbconvert_exporter": "python",
   "pygments_lexer": "ipython3",
   "version": "3.7.5"
  }
 },
 "nbformat": 4,
 "nbformat_minor": 2
}
